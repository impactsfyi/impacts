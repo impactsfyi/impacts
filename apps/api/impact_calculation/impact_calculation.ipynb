{
 "cells": [
  {
   "cell_type": "markdown",
   "metadata": {},
   "source": [
    "# Data work for estimating star values"
   ]
  },
  {
   "cell_type": "code",
   "execution_count": 32,
   "metadata": {},
   "outputs": [
    {
     "name": "stdout",
     "output_type": "stream",
     "text": [
      "             providerName country  impact\n",
      "0   Google Cloud Platform  Taiwan  557.00\n",
      "1   Google Cloud Platform   China  702.00\n",
      "2   Google Cloud Platform   Japan  516.00\n",
      "3   Google Cloud Platform   Japan  516.00\n",
      "4   Google Cloud Platform   India  920.00\n",
      "..                    ...     ...     ...\n",
      "77               Scaleway  France  105.00\n",
      "78              CoreWeave     USA  282.75\n",
      "79              CoreWeave     USA  424.50\n",
      "80              CoreWeave     USA  474.58\n",
      "81                 Seeweb   Italy    0.00\n",
      "\n",
      "[82 rows x 3 columns]\n"
     ]
    }
   ],
   "source": [
    "import pandas as pd\n",
    "\n",
    "raw_data = pd.read_csv( \"./impact_data_raw.csv\")\n",
    "\n",
    "# Keep only 'providerName' and 'star_ratings' columns\n",
    "raw_data = raw_data.filter(items=['providerName', 'country', 'impact'])\n",
    "\n",
    "# Convert the 'impact_ratings' column to numeric, coercing non-numeric values to NaN\n",
    "raw_data['impact'] = pd.to_numeric(raw_data['impact'], errors='coerce')\n",
    "\n",
    "print(raw_data)\n",
    "\n",
    "# Drop rows with NaN values (i.e., the non-numeric ones)\n",
    "raw_data = raw_data.dropna(subset=['impact'])"
   ]
  },
  {
   "cell_type": "code",
   "execution_count": 31,
   "metadata": {},
   "outputs": [],
   "source": [
    "# Min-max normalization and scaling to a 5-star range\n",
    "def normalize_to_star_rating(ratings):\n",
    "    min_val = ratings.min()\n",
    "    max_val = ratings.max()\n",
    "    \n",
    "    # Apply min-max normalization, then scale to 1-5 star range\n",
    "    star_ratings = ((ratings - min_val) / (max_val - min_val)) * 4 + 1\n",
    "    \n",
    "    return star_ratings\n",
    "\n",
    "# Create a new column 'star_ratings' with normalized values\n",
    "star_ratings = normalize_to_star_rating(raw_data['impact'])\n",
    "\n",
    "df['star_ratings'] = df['star_ratings'].round(1) * 2 / 2\n",
    "raw_data['star_ratings'] = star_ratings\n",
    "\n",
    "star_ratings\n",
    "\n",
    "\n",
    "# Create a new DataFrame with only 'providerName' and 'star_ratings'\n",
    "new_df = raw_data[['providerName', 'country', 'star_ratings']]\n",
    "\n",
    "new_df.to_csv('normalized_impact_ratings_cleaned.csv', index=False)"
   ]
  }
 ],
 "metadata": {
  "kernelspec": {
   "display_name": "Python 3",
   "language": "python",
   "name": "python3"
  },
  "language_info": {
   "codemirror_mode": {
    "name": "ipython",
    "version": 3
   },
   "file_extension": ".py",
   "mimetype": "text/x-python",
   "name": "python",
   "nbconvert_exporter": "python",
   "pygments_lexer": "ipython3",
   "version": "3.13.0"
  }
 },
 "nbformat": 4,
 "nbformat_minor": 2
}
